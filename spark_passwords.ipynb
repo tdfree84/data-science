{
 "cells": [
  {
   "cell_type": "code",
   "execution_count": 1,
   "metadata": {},
   "outputs": [],
   "source": [
    "from pyspark import SparkContext\n",
    "sc = SparkContext()"
   ]
  },
  {
   "cell_type": "code",
   "execution_count": 2,
   "metadata": {},
   "outputs": [
    {
     "data": {
      "text/plain": [
       "['adimabi9', 'ne14a69r', 'Xavier2791', 'INDele19SHEL', '4200bpcC']"
      ]
     },
     "execution_count": 2,
     "metadata": {},
     "output_type": "execute_result"
    }
   ],
   "source": [
    "# ONE Make an RDD of passwords\n",
    "pw = sc.textFile('../data/passwords.csv')\n",
    "pw.collect()\n",
    "pw.take(5)"
   ]
  },
  {
   "cell_type": "code",
   "execution_count": 3,
   "metadata": {},
   "outputs": [],
   "source": [
    "def subs(s):\n",
    "    l = [(s,s[i:j+1].lower()) for i in range(len(s)) for j in range(i,len(s))]\n",
    "    return l"
   ]
  },
  {
   "cell_type": "code",
   "execution_count": 4,
   "metadata": {},
   "outputs": [
    {
     "data": {
      "text/plain": [
       "[('adimabi9',\n",
       "  [('adimabi9', 'a'),\n",
       "   ('adimabi9', 'ad'),\n",
       "   ('adimabi9', 'adi'),\n",
       "   ('adimabi9', 'adim'),\n",
       "   ('adimabi9', 'adima'),\n",
       "   ('adimabi9', 'adimab'),\n",
       "   ('adimabi9', 'adimabi'),\n",
       "   ('adimabi9', 'adimabi9'),\n",
       "   ('adimabi9', 'd'),\n",
       "   ('adimabi9', 'di'),\n",
       "   ('adimabi9', 'dim'),\n",
       "   ('adimabi9', 'dima'),\n",
       "   ('adimabi9', 'dimab'),\n",
       "   ('adimabi9', 'dimabi'),\n",
       "   ('adimabi9', 'dimabi9'),\n",
       "   ('adimabi9', 'i'),\n",
       "   ('adimabi9', 'im'),\n",
       "   ('adimabi9', 'ima'),\n",
       "   ('adimabi9', 'imab'),\n",
       "   ('adimabi9', 'imabi'),\n",
       "   ('adimabi9', 'imabi9'),\n",
       "   ('adimabi9', 'm'),\n",
       "   ('adimabi9', 'ma'),\n",
       "   ('adimabi9', 'mab'),\n",
       "   ('adimabi9', 'mabi'),\n",
       "   ('adimabi9', 'mabi9'),\n",
       "   ('adimabi9', 'a'),\n",
       "   ('adimabi9', 'ab'),\n",
       "   ('adimabi9', 'abi'),\n",
       "   ('adimabi9', 'abi9'),\n",
       "   ('adimabi9', 'b'),\n",
       "   ('adimabi9', 'bi'),\n",
       "   ('adimabi9', 'bi9'),\n",
       "   ('adimabi9', 'i'),\n",
       "   ('adimabi9', 'i9'),\n",
       "   ('adimabi9', '9')])]"
      ]
     },
     "execution_count": 4,
     "metadata": {},
     "output_type": "execute_result"
    }
   ],
   "source": [
    "# TWO Map of tuples (password, [list of all possible substrings])\n",
    "pwt = pw.map(lambda x:(x,subs(x)))\n",
    "pwt.take(1)"
   ]
  },
  {
   "cell_type": "code",
   "execution_count": 5,
   "metadata": {},
   "outputs": [],
   "source": [
    "def agg(x,y):\n",
    "    if type(x) is list and type(y) is list: #if the two keys are lists, combine them\n",
    "        return x+y\n",
    "    if type(x) is list:  #if the first one is a list only, just append y\n",
    "        x.append(y)\n",
    "        return x\n",
    "    else: #if neither is a list, create a list with both of them\n",
    "        l = []\n",
    "        l.append(x)\n",
    "        l.append(y)\n",
    "        return l\n",
    "def map_count(x):\n",
    "    if type(x[1]) is list:  #just get length of list and that is your \"count\"\n",
    "        return (x[0],len(x[1]))\n",
    "    else:\n",
    "        return (x[0],1) #if there is no list, just output a '1'"
   ]
  },
  {
   "cell_type": "code",
   "execution_count": 13,
   "metadata": {},
   "outputs": [
    {
     "data": {
      "text/plain": [
       "[('sheldu', 69),\n",
       " ('heldus', 69),\n",
       " ('eldus1', 13),\n",
       " ('passwo', 10),\n",
       " ('asswor', 10),\n",
       " ('hazard', 10),\n",
       " ('ssword', 9),\n",
       " ('123456', 8),\n",
       " ('eather', 7),\n",
       " ('eldus2', 7),\n",
       " ('search', 6),\n",
       " ('ssheld', 6),\n",
       " ('weathe', 6),\n",
       " ('monste', 6),\n",
       " ('onster', 6),\n",
       " ('234567', 5),\n",
       " ('ldus12', 5),\n",
       " ('disast', 5),\n",
       " ('isaste', 5),\n",
       " ('er1234', 5)]"
      ]
     },
     "execution_count": 13,
     "metadata": {},
     "output_type": "execute_result"
    }
   ],
   "source": [
    "# THREE - SEVEN Reduce by key to count passwords per string\n",
    "#3 = filter\n",
    "#4 = reduceByKey with agg function\n",
    "#5 = mapping to count number of passwords with map_count\n",
    "#6 = sortBy value, descending\n",
    "#7 = .take(20)\n",
    "pw.flatMap(subs).filter(lambda x:len(x[1]) == 6).map(lambda x:(x[1],x[0])).\\\n",
    "reduceByKey(agg).map(map_count).sortBy(lambda x:-x[1]).take(20)"
   ]
  },
  {
   "cell_type": "code",
   "execution_count": 7,
   "metadata": {
    "scrolled": true
   },
   "outputs": [
    {
     "data": {
      "text/plain": [
       "[('sheldus201', 5),\n",
       " ('mitigation', 4),\n",
       " ('sheldus123', 3),\n",
       " ('minustwo2?', 3),\n",
       " ('zkcsheldus', 3),\n",
       " ('watermelon', 3),\n",
       " ('heldus2017', 3),\n",
       " ('33theresa2', 2),\n",
       " ('3theresa27', 2),\n",
       " ('!lhy324123', 2),\n",
       " ('shelduspas', 2),\n",
       " ('helduspass', 2),\n",
       " ('ruth13viol', 2),\n",
       " ('uth13violi', 2),\n",
       " ('th13violin', 2),\n",
       " ('hazarddata', 2),\n",
       " ('azarddata2', 2),\n",
       " ('zarddata20', 2),\n",
       " ('arddata201', 2),\n",
       " ('rddata2014', 2)]"
      ]
     },
     "execution_count": 7,
     "metadata": {},
     "output_type": "execute_result"
    }
   ],
   "source": [
    "# FOUR - SEVEN Reduce by key to count passwords per string\n",
    "# \"\"\n",
    "pw.flatMap(subs).filter(lambda x:len(x[1]) == 10).map(lambda x:(x[1],x[0])).\\\n",
    "reduceByKey(agg).map(map_count).sortBy(lambda x:-x[1]).take(20)"
   ]
  },
  {
   "cell_type": "markdown",
   "metadata": {},
   "source": [
    "Length 10 gives 'mitigation', 'watermelon', and 'minustwo2?' as some of the most used substrings of passwords."
   ]
  },
  {
   "cell_type": "code",
   "execution_count": 8,
   "metadata": {},
   "outputs": [
    {
     "data": {
      "text/plain": [
       "[('sheldus1', 13),\n",
       " ('password', 9),\n",
       " ('sheldus2', 7),\n",
       " ('ssheldus', 6),\n",
       " ('heldus12', 5),\n",
       " ('heldus20', 5),\n",
       " ('eldus201', 5),\n",
       " ('adimabi9', 4),\n",
       " ('research', 4),\n",
       " ('disaster', 4),\n",
       " ('jung6397', 4),\n",
       " ('sunshine', 4),\n",
       " ('12345678', 4),\n",
       " ('mitigati', 4),\n",
       " ('itigatio', 4),\n",
       " ('tigation', 4),\n",
       " ('ne14a69r', 3),\n",
       " ('eldus123', 3),\n",
       " ('sheldusp', 3),\n",
       " ('helduspa', 3)]"
      ]
     },
     "execution_count": 8,
     "metadata": {},
     "output_type": "execute_result"
    }
   ],
   "source": [
    "# FOUR - SEVEN Reduce by key to count passwords per string\n",
    "# \"\"\n",
    "pw.flatMap(subs).filter(lambda x:len(x[1]) == 8).map(lambda x:(x[1],x[0])).\\\n",
    "reduceByKey(agg).map(map_count).sortBy(lambda x:-x[1]).take(20)"
   ]
  },
  {
   "cell_type": "markdown",
   "metadata": {},
   "source": [
    "Length 8 gives 'sheldus1' and 'password' as the most common types of substrings in passwords."
   ]
  }
 ],
 "metadata": {
  "kernelspec": {
   "display_name": "Python 3",
   "language": "python",
   "name": "python3"
  },
  "language_info": {
   "codemirror_mode": {
    "name": "ipython",
    "version": 3
   },
   "file_extension": ".py",
   "mimetype": "text/x-python",
   "name": "python",
   "nbconvert_exporter": "python",
   "pygments_lexer": "ipython3",
   "version": "3.6.3"
  }
 },
 "nbformat": 4,
 "nbformat_minor": 2
}
