{
 "cells": [
  {
   "cell_type": "markdown",
   "metadata": {},
   "source": [
    "# Categorizing my personal bank transactions"
   ]
  },
  {
   "cell_type": "markdown",
   "metadata": {},
   "source": [
    "### Goal: Predict what group a transaction belongs to using KNeighborsClassifier from scikit-learn"
   ]
  },
  {
   "cell_type": "markdown",
   "metadata": {},
   "source": [
    "Transaction data supplied in this notebook is my own personal day to day income and expenses. The data is pulled from my own Checkbook program I use to maintain my financial situation. I first started keeping track in January of 2018 and have accumlated around 320 transactions since. \n",
    "\n",
    "There are five predetermined categories a transaction could fall into: **income, fuel, food, entertainment,** and **needs.**"
   ]
  },
  {
   "cell_type": "markdown",
   "metadata": {},
   "source": [
    "### Loading data"
   ]
  },
  {
   "cell_type": "code",
   "execution_count": 3,
   "metadata": {
    "scrolled": true
   },
   "outputs": [
    {
     "data": {
      "text/html": [
       "<div>\n",
       "<style scoped>\n",
       "    .dataframe tbody tr th:only-of-type {\n",
       "        vertical-align: middle;\n",
       "    }\n",
       "\n",
       "    .dataframe tbody tr th {\n",
       "        vertical-align: top;\n",
       "    }\n",
       "\n",
       "    .dataframe thead th {\n",
       "        text-align: right;\n",
       "    }\n",
       "</style>\n",
       "<table border=\"1\" class=\"dataframe\">\n",
       "  <thead>\n",
       "    <tr style=\"text-align: right;\">\n",
       "      <th></th>\n",
       "      <th>plusminus</th>\n",
       "      <th>amount</th>\n",
       "      <th>description</th>\n",
       "      <th>type</th>\n",
       "    </tr>\n",
       "  </thead>\n",
       "  <tbody>\n",
       "    <tr>\n",
       "      <th>325</th>\n",
       "      <td>-</td>\n",
       "      <td>-1.25</td>\n",
       "      <td>Omaha parking</td>\n",
       "      <td>entertainment</td>\n",
       "    </tr>\n",
       "    <tr>\n",
       "      <th>326</th>\n",
       "      <td>-</td>\n",
       "      <td>-12.00</td>\n",
       "      <td>Spaghetti works</td>\n",
       "      <td>food</td>\n",
       "    </tr>\n",
       "    <tr>\n",
       "      <th>327</th>\n",
       "      <td>-</td>\n",
       "      <td>-9.31</td>\n",
       "      <td>Arbys omaha</td>\n",
       "      <td>food</td>\n",
       "    </tr>\n",
       "  </tbody>\n",
       "</table>\n",
       "</div>"
      ],
      "text/plain": [
       "    plusminus  amount      description           type\n",
       "325         -   -1.25    Omaha parking  entertainment\n",
       "326         -  -12.00  Spaghetti works           food\n",
       "327         -   -9.31      Arbys omaha           food"
      ]
     },
     "execution_count": 3,
     "metadata": {},
     "output_type": "execute_result"
    }
   ],
   "source": [
    "# Import necessary libraries\n",
    "import pandas as pd\n",
    "import re\n",
    "from sklearn.neighbors import KNeighborsClassifier\n",
    "\n",
    "'''\n",
    "Data structure:\n",
    "\n",
    "  plusminus  amount description           type\n",
    "0         +  121.55     desc1           income\n",
    "1         -   -6.74     Walmart  entertainment\n",
    "2         +   92.83     desc2           income\n",
    "3         -  -10.60     Walmart  entertainment\n",
    "4         +   91.18     desc3           income\n",
    "\n",
    "'''\n",
    "\n",
    "data = pd.read_csv('latest.csv')\n",
    "data.tail().head(3)"
   ]
  },
  {
   "cell_type": "markdown",
   "metadata": {},
   "source": [
    "*The data is pulled from a database via a process not shown here.*"
   ]
  },
  {
   "cell_type": "markdown",
   "metadata": {},
   "source": [
    "## Prepare data"
   ]
  },
  {
   "cell_type": "markdown",
   "metadata": {},
   "source": [
    "### Gathering all words used in transaction descriptions\n",
    "\n",
    "Collect all unique words and put them in a list."
   ]
  },
  {
   "cell_type": "code",
   "execution_count": 4,
   "metadata": {},
   "outputs": [
    {
     "data": {
      "text/plain": [
       "234"
      ]
     },
     "execution_count": 4,
     "metadata": {},
     "output_type": "execute_result"
    }
   ],
   "source": [
    "'''\n",
    "\n",
    "Data structure for allWords:\n",
    "['plusminus','amount','x'..,'y'...,'z']\n",
    "Every unique word is put in the list\n",
    "\n",
    "'''\n",
    "\n",
    "allWords = [] # Any word used in any description\n",
    "for line in list(set(list(data.description))): # For every description provided in each row of the data\n",
    "    for word in re.findall('\\w+',line):\n",
    "        allWords.append(word.lower())\n",
    "allWords = list(set(allWords)) # Turning list of descripition words into a set\n",
    "allWords\n",
    "\n",
    "cols = ['plusminus','amount']\n",
    "for word in allWords:\n",
    "    cols.append(word)\n",
    "\n",
    "len(cols) # Number of unique words in all descriptions combined"
   ]
  },
  {
   "cell_type": "markdown",
   "metadata": {},
   "source": [
    "### Building binary vectors for each transaction (one hot encoding)\n",
    "\n",
    "Use the unique word list to build a one hot encoding version of the word list. That is, 1 if the word is in the description and 0 if it is not."
   ]
  },
  {
   "cell_type": "code",
   "execution_count": 5,
   "metadata": {},
   "outputs": [
    {
     "data": {
      "text/plain": [
       "330"
      ]
     },
     "execution_count": 5,
     "metadata": {},
     "output_type": "execute_result"
    }
   ],
   "source": [
    "'''\n",
    "\n",
    "Data structure for a binary vector:\n",
    "[(1 for positive or 0 for negative), (amount of transaction), 0, 0, 0, 0, 0, 0, 0, 0, 0, 0, 0, 0, 0, 0, 0, 0, 0, 0, 0, 0, \n",
    "0, 0, 0, 0, 0, 0, 0, 0, 0, 0, 0, 0, 0, 0, 0, 0, 0, 0, 0, 0, 0, 0, 0, \n",
    "0, 0, 0, 0, 0, 0, 0, 0, 0, 0, 0, 0, 0, 0, 0, 0, 0, 0, 0, 0, 0, 0, 0, \n",
    "0, 0, 0, 0, 0, 1, 0, 0, 0, 0, 0, 0, 0, 0, 0, 0, 0, 0, 0, 0, 0, 0, 0, \n",
    "0, 0, 0, 0, 0, 0, 0, 0, 0, 0, 0, 0, 0, 0, 0, 0, 0, 0, 0, 0, 0, 0, 0,\n",
    "0, 0, 0, 0, 0, 0, 0, 0, 0, 0]\n",
    "\n",
    "'''\n",
    "\n",
    "# Manipulating the data for a binary vector\n",
    "saveArr = [] # Big array that will hold all vectors\n",
    "\n",
    "# Saving 1 if '+' or 0 if '-'\n",
    "for pm in list(data.plusminus):\n",
    "    if pm == '+':\n",
    "        saveArr.append([1])\n",
    "    else:\n",
    "        saveArr.append([0])\n",
    "saveArr\n",
    "\n",
    "# Appending the amounts\n",
    "for i in range(len(data.type)):\n",
    "    saveArr[i].append(int(data.iloc[i][1]))\n",
    "saveArr\n",
    "\n",
    "# Appending the description vector\n",
    "# A binary vector of descriptions that are 1 if word in, 0 if not\n",
    "for i in range(len(data.type)):\n",
    "    \n",
    "    thisdesc = re.findall('\\w+',data.iloc[i][2]) # Current description\n",
    "    ld=[]\n",
    "    # Lowered description for comparison to allWords list\n",
    "    for item in thisdesc:\n",
    "        ld.append(item.lower())\n",
    "        \n",
    "    # For every word in allWords, test if it is in the current description\n",
    "    for word in allWords:\n",
    "        if word in ld: # If word in the current description\n",
    "            saveArr[i].append(1) # Append 1 if true, 0 if not\n",
    "        else:\n",
    "            saveArr[i].append(0)\n",
    "            \n",
    "len(saveArr)"
   ]
  },
  {
   "cell_type": "markdown",
   "metadata": {},
   "source": [
    "### Grab the target categories for training\n",
    "\n",
    "Assign each transaction its designated category so the model can learn."
   ]
  },
  {
   "cell_type": "code",
   "execution_count": 6,
   "metadata": {},
   "outputs": [
    {
     "data": {
      "text/plain": [
       "330"
      ]
     },
     "execution_count": 6,
     "metadata": {},
     "output_type": "execute_result"
    }
   ],
   "source": [
    "'''\n",
    "\n",
    "Length of targets should match the length of saveArr!\n",
    "This is because each row in the data (saveArr) needs to have a target value.\n",
    "\n",
    "Data structure for targets:\n",
    "[2, 4, 2, 4, 2, 4, 2, 4, 1, 2, 4, 4, 2, 0, 1, 0, 2, 1, 1, 1,\n",
    "0, 1, 2, 2, 1, 1, 2, 0, 0, 2, 1, 1, 0, 2, 3, 1, 1, 1, 1, 2, \n",
    "                        ...\n",
    "0, 1, 2, 2, 1, 2, 1, 2, 2, 3, 4, 2, 1, 1, 2, 2, 2, 1, 0, 2, 1,\n",
    "2, 3, 4, 2]\n",
    "\n",
    "'''\n",
    "\n",
    "targets = [] # List of all target values\n",
    "types = list(set(list(data.type)))\n",
    "# types = ['food', 'income', 'fuel', 'entertainment', 'need']\n",
    "\n",
    "\n",
    "for i in range(len(data.type)): # For every i row in the data\n",
    "    for j in range(len(types)): # For every j index in types\n",
    "        \n",
    "        # If the type equals the type of the row of the data\n",
    "        if types[j] == data.iloc[i][3]: \n",
    "            targets.append(j) # Append the index of the type in the type vector\n",
    "            \n",
    "len(targets)"
   ]
  },
  {
   "cell_type": "markdown",
   "metadata": {},
   "source": [
    "## Data analyzation"
   ]
  },
  {
   "cell_type": "markdown",
   "metadata": {},
   "source": [
    "### Fit the data with KNeighborsClassifier"
   ]
  },
  {
   "cell_type": "code",
   "execution_count": 13,
   "metadata": {},
   "outputs": [
    {
     "data": {
      "text/plain": [
       "KNeighborsClassifier(algorithm='auto', leaf_size=30, metric='minkowski',\n",
       "                     metric_params=None, n_jobs=None, n_neighbors=10, p=2,\n",
       "                     weights='uniform')"
      ]
     },
     "execution_count": 13,
     "metadata": {},
     "output_type": "execute_result"
    }
   ],
   "source": [
    "'''\n",
    "\n",
    "Input for:\n",
    "knn.fit(training_set, target_values)\n",
    "\n",
    "Input for:\n",
    "X = [dtp1, dtp2, dtp3...] \n",
    "X takes data rows to predict; should match structure of saveArr[i]\n",
    "\n",
    "Expected output data of prediction:\n",
    "[t1, t2, t3, t4...]\n",
    "Types of predicted data\n",
    "\n",
    "'''\n",
    "\n",
    "# Data frame with rows of each vector in saveArr \n",
    "final = pd.DataFrame(saveArr,columns=cols)\n",
    "final.head()\n",
    "\n",
    "# Declare a KNN classifier class with the value with neighbors\n",
    "knn = KNeighborsClassifier(n_neighbors=10)\n",
    "\n",
    "# Fit the model with training data and target values\n",
    "max_train = int(data.shape[0])-6\n",
    "knn.fit(saveArr[:max_train], targets[:max_train])"
   ]
  },
  {
   "cell_type": "markdown",
   "metadata": {},
   "source": [
    "### Predict the categories\n",
    "\n",
    "Using the model created above, we can now predict categories of transactions the model has not seen. That is, use what the machine has learned and apply it to new, foreign data that needs to be categorized.\n",
    "\n",
    "We will try to accurately predict the types of the transactions immediately below."
   ]
  },
  {
   "cell_type": "code",
   "execution_count": 16,
   "metadata": {},
   "outputs": [
    {
     "data": {
      "text/html": [
       "<div>\n",
       "<style scoped>\n",
       "    .dataframe tbody tr th:only-of-type {\n",
       "        vertical-align: middle;\n",
       "    }\n",
       "\n",
       "    .dataframe tbody tr th {\n",
       "        vertical-align: top;\n",
       "    }\n",
       "\n",
       "    .dataframe thead th {\n",
       "        text-align: right;\n",
       "    }\n",
       "</style>\n",
       "<table border=\"1\" class=\"dataframe\">\n",
       "  <thead>\n",
       "    <tr style=\"text-align: right;\">\n",
       "      <th></th>\n",
       "      <th>plusminus</th>\n",
       "      <th>amount</th>\n",
       "      <th>description</th>\n",
       "      <th>type</th>\n",
       "    </tr>\n",
       "  </thead>\n",
       "  <tbody>\n",
       "    <tr>\n",
       "      <th>325</th>\n",
       "      <td>-</td>\n",
       "      <td>-1.25</td>\n",
       "      <td>Omaha parking</td>\n",
       "      <td>entertainment</td>\n",
       "    </tr>\n",
       "    <tr>\n",
       "      <th>326</th>\n",
       "      <td>-</td>\n",
       "      <td>-12.00</td>\n",
       "      <td>Spaghetti works</td>\n",
       "      <td>food</td>\n",
       "    </tr>\n",
       "    <tr>\n",
       "      <th>327</th>\n",
       "      <td>-</td>\n",
       "      <td>-9.31</td>\n",
       "      <td>Arbys omaha</td>\n",
       "      <td>food</td>\n",
       "    </tr>\n",
       "  </tbody>\n",
       "</table>\n",
       "</div>"
      ],
      "text/plain": [
       "    plusminus  amount      description           type\n",
       "325         -   -1.25    Omaha parking  entertainment\n",
       "326         -  -12.00  Spaghetti works           food\n",
       "327         -   -9.31      Arbys omaha           food"
      ]
     },
     "execution_count": 16,
     "metadata": {},
     "output_type": "execute_result"
    }
   ],
   "source": [
    "data[max_train+1:].head(3)"
   ]
  },
  {
   "cell_type": "code",
   "execution_count": 14,
   "metadata": {},
   "outputs": [
    {
     "name": "stdout",
     "output_type": "stream",
     "text": [
      "[4 4 4 3 1]\n",
      "Prediction is: food\n",
      "Prediction is: food\n",
      "Prediction is: food\n",
      "Prediction is: income\n",
      "Prediction is: entertainment\n"
     ]
    }
   ],
   "source": [
    "# Provide data whose class labels are to be predicted\n",
    "X = [saveArr[max_train+i] for i in range(1, data.shape[0]-max_train)]\n",
    "\n",
    "# Prints the data provided\n",
    "#print(X)\n",
    "\n",
    "# Store predicted class labels of X\n",
    "prediction = knn.predict(X)\n",
    "\n",
    "# Prints the predicted class labels of X\n",
    "predict_values = []\n",
    "print(prediction)\n",
    "for _type in prediction:\n",
    "    print('Prediction is:',types[_type])\n",
    "    predict_values.append(types[_type])"
   ]
  },
  {
   "cell_type": "code",
   "execution_count": 15,
   "metadata": {},
   "outputs": [
    {
     "name": "stdout",
     "output_type": "stream",
     "text": [
      "Accuracy: 60.0%\n"
     ]
    },
    {
     "data": {
      "text/html": [
       "<div>\n",
       "<style scoped>\n",
       "    .dataframe tbody tr th:only-of-type {\n",
       "        vertical-align: middle;\n",
       "    }\n",
       "\n",
       "    .dataframe tbody tr th {\n",
       "        vertical-align: top;\n",
       "    }\n",
       "\n",
       "    .dataframe thead th {\n",
       "        text-align: right;\n",
       "    }\n",
       "</style>\n",
       "<table border=\"1\" class=\"dataframe\">\n",
       "  <thead>\n",
       "    <tr style=\"text-align: right;\">\n",
       "      <th></th>\n",
       "      <th>prediction</th>\n",
       "      <th>answer</th>\n",
       "      <th>correct?</th>\n",
       "    </tr>\n",
       "  </thead>\n",
       "  <tbody>\n",
       "    <tr>\n",
       "      <th>325</th>\n",
       "      <td>food</td>\n",
       "      <td>entertainment</td>\n",
       "      <td>False</td>\n",
       "    </tr>\n",
       "    <tr>\n",
       "      <th>326</th>\n",
       "      <td>food</td>\n",
       "      <td>food</td>\n",
       "      <td>True</td>\n",
       "    </tr>\n",
       "    <tr>\n",
       "      <th>327</th>\n",
       "      <td>food</td>\n",
       "      <td>food</td>\n",
       "      <td>True</td>\n",
       "    </tr>\n",
       "    <tr>\n",
       "      <th>328</th>\n",
       "      <td>income</td>\n",
       "      <td>income</td>\n",
       "      <td>True</td>\n",
       "    </tr>\n",
       "    <tr>\n",
       "      <th>329</th>\n",
       "      <td>entertainment</td>\n",
       "      <td>need</td>\n",
       "      <td>False</td>\n",
       "    </tr>\n",
       "  </tbody>\n",
       "</table>\n",
       "</div>"
      ],
      "text/plain": [
       "        prediction         answer  correct?\n",
       "325           food  entertainment     False\n",
       "326           food           food      True\n",
       "327           food           food      True\n",
       "328         income         income      True\n",
       "329  entertainment           need     False"
      ]
     },
     "execution_count": 15,
     "metadata": {},
     "output_type": "execute_result"
    }
   ],
   "source": [
    "# DataFrame construction\n",
    "conclusion = pd.DataFrame({'prediction':predict_values,\n",
    "                          'answer':data.type[max_train+1:]})\n",
    "# Add correct indicator\n",
    "conclusion['correct?'] = conclusion.prediction == conclusion.answer\n",
    "\n",
    "# Get percent correct\n",
    "total = conclusion.answer.count()\n",
    "correct_predictions = (conclusion[conclusion['correct?'] == True]).answer.count()\n",
    "\n",
    "percent_correct = str((correct_predictions/total) * 100) + '%'\n",
    "print(\"Accuracy: {}\".format(percent_correct))\n",
    "conclusion"
   ]
  },
  {
   "cell_type": "markdown",
   "metadata": {},
   "source": [
    "## *Conclusion*\n",
    "\n",
    "The last 3 out of 5 transactions were succcessfully categorized using KNeighborsClassifier from scikit-learn, an example of supervised machine learning. This model was looking at the 10 nearest neighbors to make a decision on what category the new transaction falls into. This model learnt data and its target values then applied the model to new, unseen data and categorized appropriately.\n",
    "\n",
    "What would make this model better? More transactions that provide diverse knowledge of my spending habits. The more time goes on, the more new things will be introduced to the model that it can remember for next time."
   ]
  }
 ],
 "metadata": {
  "kernelspec": {
   "display_name": "Python 3",
   "language": "python",
   "name": "python3"
  },
  "language_info": {
   "codemirror_mode": {
    "name": "ipython",
    "version": 3
   },
   "file_extension": ".py",
   "mimetype": "text/x-python",
   "name": "python",
   "nbconvert_exporter": "python",
   "pygments_lexer": "ipython3",
   "version": "3.7.4"
  }
 },
 "nbformat": 4,
 "nbformat_minor": 2
}
